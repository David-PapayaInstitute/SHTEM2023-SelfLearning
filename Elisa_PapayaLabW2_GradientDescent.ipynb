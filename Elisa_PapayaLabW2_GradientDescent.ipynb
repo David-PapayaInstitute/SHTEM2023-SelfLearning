{
  "nbformat": 4,
  "nbformat_minor": 0,
  "metadata": {
    "colab": {
      "provenance": []
    },
    "kernelspec": {
      "name": "python3",
      "display_name": "Python 3"
    },
    "language_info": {
      "name": "python"
    }
  },
  "cells": [
    {
      "cell_type": "code",
      "execution_count": null,
      "metadata": {
        "colab": {
          "base_uri": "https://localhost:8080/"
        },
        "id": "HvlA_Ol2m-fH",
        "outputId": "0603e770-4a7f-43cb-da4e-65bae75b659c"
      },
      "outputs": [
        {
          "output_type": "stream",
          "name": "stdout",
          "text": [
            "Mounted at /content/drive/\n"
          ]
        }
      ],
      "source": [
        "import numpy as np\n",
        "import matplotlib.pyplot as plt\n",
        "import time\n",
        "import os\n",
        "import tensorflow as tf\n",
        "from google.colab import drive\n",
        "drive.mount('/content/drive/')\n",
        "loc = 'drive/MyDrive/Shtem2023/'"
      ]
    },
    {
      "cell_type": "code",
      "source": [
        "x = np.random.rand(1000)"
      ],
      "metadata": {
        "id": "mNWMWrRa7fmi"
      },
      "execution_count": null,
      "outputs": []
    },
    {
      "cell_type": "code",
      "source": [
        "y = np.sqrt(1 - x**2)"
      ],
      "metadata": {
        "id": "HIxQ6m2z7qj_"
      },
      "execution_count": null,
      "outputs": []
    },
    {
      "cell_type": "code",
      "source": [
        "def f(x):\n",
        "  return x**2-4*x+x**3 +1/10*x**4"
      ],
      "metadata": {
        "id": "OvPmMBwNwHcH"
      },
      "execution_count": null,
      "outputs": []
    },
    {
      "cell_type": "code",
      "source": [
        "x = x.reshape(1000,1)\n",
        "y = y.reshape(1000,1)\n",
        "input_shape = x[0].shape\n",
        "\n",
        "model = tf.keras.Sequential([\n",
        "tf.keras.layers.Dense(units=10,input_shape=input_shape)])\n",
        "model.add(tf.keras.layers.Dense(units=10))\n",
        "model.add(tf.keras.layers.Dense(units=10))\n",
        "# after you create your model it's\n",
        "# always a good habit to print out it's summary\n",
        "model.summary()\n",
        "# adam optimizer works pretty well for\n",
        "# all kinds of problems and is a good starting point\n",
        "\n",
        "model.compile(optimizer= tf.keras.optimizers.Adam(learning_rate= 0.01),\n",
        "\n",
        "              # MAE error is good for\n",
        "              # numerical predictions\n",
        "              loss='mae')\n",
        "losses = model.fit(x, y,\n",
        "\n",
        "                   # it will use 'batch_size' number\n",
        "                   # of examples per example\n",
        "                   batch_size=256,\n",
        "                   epochs=15,  # total epoch\n",
        "                   )"
      ],
      "metadata": {
        "colab": {
          "base_uri": "https://localhost:8080/"
        },
        "id": "DHBrk9pL80t8",
        "outputId": "a3f9a7df-5765-4743-ed90-afd2dcd7aefd"
      },
      "execution_count": null,
      "outputs": [
        {
          "output_type": "stream",
          "name": "stdout",
          "text": [
            "Model: \"sequential_10\"\n",
            "_________________________________________________________________\n",
            " Layer (type)                Output Shape              Param #   \n",
            "=================================================================\n",
            " dense_24 (Dense)            (None, 10)                20        \n",
            "                                                                 \n",
            " dense_25 (Dense)            (None, 10)                110       \n",
            "                                                                 \n",
            " dense_26 (Dense)            (None, 10)                110       \n",
            "                                                                 \n",
            "=================================================================\n",
            "Total params: 240\n",
            "Trainable params: 240\n",
            "Non-trainable params: 0\n",
            "_________________________________________________________________\n",
            "Epoch 1/15\n",
            "4/4 [==============================] - 1s 5ms/step - loss: 0.7165\n",
            "Epoch 2/15\n",
            "4/4 [==============================] - 0s 4ms/step - loss: 0.5534\n",
            "Epoch 3/15\n",
            "4/4 [==============================] - 0s 3ms/step - loss: 0.4470\n",
            "Epoch 4/15\n",
            "4/4 [==============================] - 0s 4ms/step - loss: 0.3835\n",
            "Epoch 5/15\n",
            "4/4 [==============================] - 0s 4ms/step - loss: 0.3220\n",
            "Epoch 6/15\n",
            "4/4 [==============================] - 0s 4ms/step - loss: 0.2559\n",
            "Epoch 7/15\n",
            "4/4 [==============================] - 0s 5ms/step - loss: 0.1881\n",
            "Epoch 8/15\n",
            "4/4 [==============================] - 0s 4ms/step - loss: 0.1401\n",
            "Epoch 9/15\n",
            "4/4 [==============================] - 0s 3ms/step - loss: 0.1164\n",
            "Epoch 10/15\n",
            "4/4 [==============================] - 0s 5ms/step - loss: 0.1000\n",
            "Epoch 11/15\n",
            "4/4 [==============================] - 0s 3ms/step - loss: 0.0795\n",
            "Epoch 12/15\n",
            "4/4 [==============================] - 0s 5ms/step - loss: 0.0707\n",
            "Epoch 13/15\n",
            "4/4 [==============================] - 0s 3ms/step - loss: 0.0672\n",
            "Epoch 14/15\n",
            "4/4 [==============================] - 0s 3ms/step - loss: 0.0671\n",
            "Epoch 15/15\n",
            "4/4 [==============================] - 0s 4ms/step - loss: 0.0655\n"
          ]
        }
      ]
    },
    {
      "cell_type": "code",
      "source": [
        "guess = -4.5\n",
        "xs = np.arange(-10,5,.1)\n",
        "plt.plot(xs,f(xs))\n",
        "plt.axvline(guess, color = 'green', dashes = (2,4))"
      ],
      "metadata": {
        "colab": {
          "base_uri": "https://localhost:8080/",
          "height": 447
        },
        "id": "w9lZF7fwvluF",
        "outputId": "8b69e95e-e792-4e3a-d3bc-396a88a768d3"
      },
      "execution_count": null,
      "outputs": [
        {
          "output_type": "execute_result",
          "data": {
            "text/plain": [
              "<matplotlib.lines.Line2D at 0x7fb9488b9a20>"
            ]
          },
          "metadata": {},
          "execution_count": 3
        },
        {
          "output_type": "display_data",
          "data": {
            "text/plain": [
              "<Figure size 640x480 with 1 Axes>"
            ],
            "image/png": "[encoded data removed]"
          },
          "metadata": {}
        }
      ]
    },
    {
      "cell_type": "code",
      "source": [
        "def df(x):\n",
        "  return 2*x-4+3*x**2 +4/10*x**3\n"
      ],
      "metadata": {
        "id": "U5zzclwL0kxY"
      },
      "execution_count": null,
      "outputs": []
    },
    {
      "cell_type": "code",
      "source": [
        "df(guess)"
      ],
      "metadata": {
        "colab": {
          "base_uri": "https://localhost:8080/"
        },
        "id": "UX-SrN4b0yHy",
        "outputId": "ea7c912b-2b72-4b0f-e641-82eb6d3510ad"
      },
      "execution_count": null,
      "outputs": [
        {
          "output_type": "execute_result",
          "data": {
            "text/plain": [
              "11.299999999999997"
            ]
          },
          "metadata": {},
          "execution_count": 5
        }
      ]
    },
    {
      "cell_type": "code",
      "source": [
        "a = .1\n",
        "newguess = guess-df(guess)*a"
      ],
      "metadata": {
        "id": "nJu67jgA02hr"
      },
      "execution_count": null,
      "outputs": []
    },
    {
      "cell_type": "code",
      "source": [
        "newguess"
      ],
      "metadata": {
        "colab": {
          "base_uri": "https://localhost:8080/"
        },
        "id": "e8mtvSX11A0k",
        "outputId": "86169d96-18dd-4f00-ae5f-5e29b0a421e0"
      },
      "execution_count": null,
      "outputs": [
        {
          "output_type": "execute_result",
          "data": {
            "text/plain": [
              "-5.63"
            ]
          },
          "metadata": {},
          "execution_count": 7
        }
      ]
    },
    {
      "cell_type": "code",
      "source": [
        "loc = 'drive/MyDrive/Shtem2023/'\n",
        "x2 = np.load(loc + 'x2.npy')\n",
        "y2 = np.load(loc + 'y2.npy')\n",
        "\n",
        "def polyguess(x2,par):\n",
        "  return x2[:,0]*x2[:,1]*par\n"
      ],
      "metadata": {
        "id": "h87fbca-p249"
      },
      "execution_count": null,
      "outputs": []
    },
    {
      "cell_type": "code",
      "source": [
        "par = 6\n",
        "np.mean((polyguess(x2,7) - y2)**2)"
      ],
      "metadata": {
        "colab": {
          "base_uri": "https://localhost:8080/"
        },
        "id": "Qw9Rsw_p1yUu",
        "outputId": "808aac19-b584-4280-fa1b-38618c30ace3"
      },
      "execution_count": null,
      "outputs": [
        {
          "output_type": "execute_result",
          "data": {
            "text/plain": [
              "90301984.03762284"
            ]
          },
          "metadata": {},
          "execution_count": 9
        }
      ]
    },
    {
      "cell_type": "markdown",
      "source": [
        "$Error = MEAN(x_1*x_2*p - y_2)^2$\n",
        "\n",
        "//\n",
        "\n",
        "$\\frac{dError}{dp} = MEAN(2 (x_1*x_2*p - y_2)x_1*x_2)$"
      ],
      "metadata": {
        "id": "wmMfDBOU3K1N"
      }
    },
    {
      "cell_type": "code",
      "source": [
        "def dpolyguess(x2,par):\n",
        "  return np.mean(2*(x2[:,0]*x2[:,1]*par-y2)*x2[:,0]*x2[:,1])"
      ],
      "metadata": {
        "id": "xV3o6sSZ11vx"
      },
      "execution_count": null,
      "outputs": []
    },
    {
      "cell_type": "code",
      "source": [
        "dpolyguess(x2,par)\n",
        "a = 1e-8"
      ],
      "metadata": {
        "id": "s7asBAmq5Nrq"
      },
      "execution_count": null,
      "outputs": []
    },
    {
      "cell_type": "code",
      "source": [
        "nextpar = par -dpolyguess(x2,par)*a"
      ],
      "metadata": {
        "id": "NGynBTtt5SqQ"
      },
      "execution_count": null,
      "outputs": []
    },
    {
      "cell_type": "code",
      "source": [
        "nextpar"
      ],
      "metadata": {
        "colab": {
          "base_uri": "https://localhost:8080/"
        },
        "id": "3EZ27Ksr5odi",
        "outputId": "a74db530-3587-42e7-ba88-2c8e092164d8"
      },
      "execution_count": null,
      "outputs": [
        {
          "output_type": "execute_result",
          "data": {
            "text/plain": [
              "5.586402570204747"
            ]
          },
          "metadata": {},
          "execution_count": 13
        }
      ]
    },
    {
      "cell_type": "code",
      "source": [],
      "metadata": {
        "id": "zPhmdSFv5pVR"
      },
      "execution_count": null,
      "outputs": []
    }
  ]
}