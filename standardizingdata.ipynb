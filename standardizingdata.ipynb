{
  "nbformat": 4,
  "nbformat_minor": 0,
  "metadata": {
    "colab": {
      "provenance": []
    },
    "kernelspec": {
      "name": "python3",
      "display_name": "Python 3"
    },
    "language_info": {
      "name": "python"
    }
  },
  "cells": [
    {
      "cell_type": "code",
      "execution_count": null,
      "metadata": {
        "colab": {
          "base_uri": "https://localhost:8080/"
        },
        "id": "tDhAEPQF0Q20",
        "outputId": "8b51d1f0-24b1-43d7-e3d8-2660bd793b96"
      },
      "outputs": [
        {
          "output_type": "stream",
          "name": "stdout",
          "text": [
            "Drive already mounted at /content/drive/; to attempt to forcibly remount, call drive.mount(\"/content/drive/\", force_remount=True).\n"
          ]
        }
      ],
      "source": [
        "import numpy as np\n",
        "import matplotlib.pyplot as plt\n",
        "import time\n",
        "import os\n",
        "import PIL\n",
        "import scipy\n",
        "import tensorflow as tf\n",
        "from google.colab import drive\n",
        "from sklearn.model_selection import train_test_split\n",
        "drive.mount('/content/drive/')\n",
        "loc = 'drive/MyDrive/Shtem2023/'\n",
        "dim = 250"
      ]
    },
    {
      "cell_type": "code",
      "source": [
        "Xlist = []\n",
        "for filename in os.listdir(loc+'breastcancer/class0'):\n",
        "  img = PIL.Image.open(loc+'breastcancer/class0/'+filename)\n",
        "  img2 = img.resize((dim,dim))\n",
        "  arr = np.array(img2)\n",
        "  Xlist.append(arr)\n",
        "for filename in os.listdir(loc+'breastcancer/class1'):\n",
        "  img = PIL.Image.open(loc+'breastcancer/class1/'+filename)\n",
        "  img2 = img.resize((dim,dim))\n",
        "  arr = np.array(img2)\n",
        "  Xlist.append(arr)\n",
        "  X = np.array(Xlist)"
      ],
      "metadata": {
        "id": "p0j4aFqF0vXq"
      },
      "execution_count": null,
      "outputs": []
    },
    {
      "cell_type": "code",
      "source": [
        "Ylist = []\n",
        "numCat = 2\n",
        "for filename in os.listdir(loc+'breastcancer/class0'):\n",
        "  if 'class1' in filename:\n",
        "    label = [1,0] #1 on the left means cancer positive\n",
        "  else:\n",
        "    label = [0,1]\n",
        "  Ylist.append(label)\n",
        "for filename in os.listdir(loc+'breastcancer/class1'):\n",
        "  if 'class1' in filename:\n",
        "    label = [1,0] #1 on the left means cancer positive\n",
        "  else:\n",
        "    label = [0,1]\n",
        "  Ylist.append(label)\n",
        "Y = np.array(Ylist)"
      ],
      "metadata": {
        "id": "5E7Ehrur1CXd"
      },
      "execution_count": null,
      "outputs": []
    },
    {
      "cell_type": "code",
      "source": [
        "print(X.shape, Y.shape)"
      ],
      "metadata": {
        "colab": {
          "base_uri": "https://localhost:8080/"
        },
        "id": "w5Q_w9Xf1Fqz",
        "outputId": "4affe3e1-f083-420c-86c2-21734e59e3c0"
      },
      "execution_count": null,
      "outputs": [
        {
          "output_type": "stream",
          "name": "stdout",
          "text": [
            "(979, 250, 250, 3) (979, 2)\n"
          ]
        }
      ]
    },
    {
      "cell_type": "code",
      "source": [
        "x_train, x_valid, y_train, y_valid = train_test_split(X, Y, test_size=0.2, shuffle= True)\n",
        "Xall = np.concatenate([x_train, x_valid])\n",
        "Yall = np.concatenate([y_train, y_valid])\n",
        "print(Xall.shape, Yall.shape)"
      ],
      "metadata": {
        "id": "-UEIuqMX3sRj",
        "colab": {
          "base_uri": "https://localhost:8080/"
        },
        "outputId": "e401ad95-37cd-47cb-abee-8b20ec4bb2ff"
      },
      "execution_count": null,
      "outputs": [
        {
          "output_type": "stream",
          "name": "stdout",
          "text": [
            "(979, 250, 250, 3) (979, 2)\n"
          ]
        }
      ]
    },
    {
      "cell_type": "code",
      "source": [
        "np.save(loc + 'all_data/breastcancerX.npy', Xall)\n",
        "np.save(loc + 'all_data/breastcancerY.npy', Yall)"
      ],
      "metadata": {
        "id": "8aabW0PB6ePC"
      },
      "execution_count": null,
      "outputs": []
    },
    {
      "cell_type": "markdown",
      "source": [
        "# alz"
      ],
      "metadata": {
        "id": "2ZmZVXME9pgI"
      }
    },
    {
      "cell_type": "code",
      "source": [
        "alz_cat = os.listdir(loc + 'Alzheimers/train')\n",
        "print(alz_cat)"
      ],
      "metadata": {
        "id": "mbOL78Gr989f",
        "colab": {
          "base_uri": "https://localhost:8080/"
        },
        "outputId": "943ac85f-97dd-4250-dadf-832b1fac8d5d"
      },
      "execution_count": null,
      "outputs": [
        {
          "output_type": "stream",
          "name": "stdout",
          "text": [
            "['MildDemented', 'VeryMildDemented', 'ModerateDemented', 'NonDemented']\n"
          ]
        }
      ]
    },
    {
      "cell_type": "code",
      "source": [
        "Xlist = []\n",
        "for cat in alz_cat:\n",
        "  for filename in os.listdir(loc+'Alzheimers/train/'+ cat):\n",
        "    img = PIL.Image.open(loc+'Alzheimers/train/'+ cat + '/'+ filename)\n",
        "    img2 = img.resize((dim,dim))\n",
        "    arr = np.array(img2)\n",
        "    Xlist.append(arr)\n",
        "  for filename in os.listdir(loc+'Alzheimers/valid/'+ cat):\n",
        "    img = PIL.Image.open(loc+'Alzheimers/valid/'+ cat + '/'+ filename)\n",
        "    img2 = img.resize((dim,dim))\n",
        "    arr = np.array(img2)\n",
        "    Xlist.append(arr)\n",
        "\n",
        "X = np.array(Xlist)"
      ],
      "metadata": {
        "id": "9WJidEaj9vp6"
      },
      "execution_count": null,
      "outputs": []
    },
    {
      "cell_type": "code",
      "source": [
        "Ylist = []\n",
        "numCat = 4\n",
        "for cat in alz_cat:\n",
        "  for filename in os.listdir(loc+'Alzheimers/train/'+ cat):\n",
        "      label = np.zeros(4)\n",
        "      index = alz_cat.index(cat)\n",
        "      label[index]=1\n",
        "      Ylist.append(label)\n",
        "  for filename in os.listdir(loc+'Alzheimers/valid/'+ cat):\n",
        "    label = np.zeros(4)\n",
        "    index = alz_cat.index(cat)\n",
        "    label[index]=1\n",
        "    Ylist.append(label)\n",
        "Y = np.array(Ylist)"
      ],
      "metadata": {
        "id": "VlGRt2tr91Sd"
      },
      "execution_count": null,
      "outputs": []
    },
    {
      "cell_type": "code",
      "source": [
        "print(X.shape, Y.shape)\n",
        "x_train, x_valid, y_train, y_valid = train_test_split(X, Y, test_size=0.2, shuffle= True)\n",
        "Xall = np.concatenate([x_train, x_valid])\n",
        "Yall = np.concatenate([y_train, y_valid])\n",
        "print(Xall.shape, Yall.shape)"
      ],
      "metadata": {
        "colab": {
          "base_uri": "https://localhost:8080/"
        },
        "id": "CUkvLhbSeyEM",
        "outputId": "ccd4129e-8584-41bf-b7d3-206a63cffdc0"
      },
      "execution_count": null,
      "outputs": [
        {
          "output_type": "stream",
          "name": "stdout",
          "text": [
            "(1066, 250, 250) (1066, 4)\n"
          ]
        }
      ]
    },
    {
      "cell_type": "code",
      "source": [
        "np.save(loc + 'all_data/alzheimerX.npy', Xall)\n",
        "np.save(loc + 'all_data/alzheimerY.npy', Yall)"
      ],
      "metadata": {
        "id": "YWKltlDa4SJf"
      },
      "execution_count": null,
      "outputs": []
    },
    {
      "cell_type": "markdown",
      "source": [
        "# Covid"
      ],
      "metadata": {
        "id": "ubhOQECXixKE"
      }
    },
    {
      "cell_type": "code",
      "source": [
        "covid_cat = os.listdir(loc+'covid/train')\n",
        "print(covid_cat)"
      ],
      "metadata": {
        "colab": {
          "base_uri": "https://localhost:8080/"
        },
        "id": "m0_L7o2Fe83H",
        "outputId": "1c88cd2d-b918-4fa8-f278-8ec854825374"
      },
      "execution_count": null,
      "outputs": [
        {
          "output_type": "stream",
          "name": "stdout",
          "text": [
            "['PNEUMONIA', 'TURBERCULOSIS', 'COVID19', 'NORMAL']\n"
          ]
        }
      ]
    },
    {
      "cell_type": "code",
      "source": [
        "Xlist = []\n",
        "for cat in covid_cat:\n",
        "  for filename in os.listdir(loc+'covid/train/'+ cat):\n",
        "    img = PIL.Image.open(loc+'covid/train/'+ cat + '/'+ filename)\n",
        "    img1 = img.resize((dim,dim))\n",
        "    img2 = img1.convert('RGB')\n",
        "    arr = np.array(img2)\n",
        "    Xlist.append(arr)\n",
        "  for filename in os.listdir(loc+'covid/val/'+ cat):\n",
        "    img = PIL.Image.open(loc+'covid/val/'+ cat + '/'+ filename)\n",
        "    img1 = img.resize((dim,dim))\n",
        "    img2 = img1.convert('RGB')\n",
        "    arr = np.array(img2)\n",
        "    Xlist.append(arr)\n",
        "  for filename in os.listdir(loc+'covid/test/'+ cat):\n",
        "    img = PIL.Image.open(loc+'covid/test/'+ cat + '/'+ filename)\n",
        "    img1 = img.resize((dim,dim))\n",
        "    img2 = img1.convert('RGB')\n",
        "    arr = np.array(img2)\n",
        "    Xlist.append(arr)\n",
        "X = np.asarray(Xlist)"
      ],
      "metadata": {
        "id": "LBH4SSyuh5GU"
      },
      "execution_count": null,
      "outputs": []
    },
    {
      "cell_type": "code",
      "source": [
        "Ylist = []\n",
        "numCat = 4\n",
        "for cat in covid_cat:\n",
        "  for filename in os.listdir(loc+'covid/train/'+ cat):\n",
        "      label = np.zeros(4)\n",
        "      index = covid_cat.index(cat)\n",
        "      label[index]=1\n",
        "      Ylist.append(label)\n",
        "  for filename in os.listdir(loc+'covid/val/'+ cat):\n",
        "    label = np.zeros(4)\n",
        "    index = covid_cat.index(cat)\n",
        "    label[index]=1\n",
        "    Ylist.append(label)\n",
        "  for filename in os.listdir(loc+'covid/test/'+ cat):\n",
        "    label = np.zeros(4)\n",
        "    index = covid_cat.index(cat)\n",
        "    label[index]=1\n",
        "    Ylist.append(label)\n",
        "Y = np.asarray(Ylist)"
      ],
      "metadata": {
        "id": "35JNfLW2jRJv"
      },
      "execution_count": null,
      "outputs": []
    },
    {
      "cell_type": "code",
      "source": [
        "print(X.shape, Y.shape)\n",
        "x_train, x_valid, y_train, y_valid = train_test_split(X, Y, test_size=0.2, shuffle= True)\n",
        "Xall = np.concatenate([x_train, x_valid])\n",
        "Yall = np.concatenate([y_train, y_valid])\n",
        "print(Xall.shape, Yall.shape)"
      ],
      "metadata": {
        "colab": {
          "base_uri": "https://localhost:8080/"
        },
        "id": "4szdt4bwjJb5",
        "outputId": "850ae5ba-92f1-4a21-eb0f-b3fc61150c28"
      },
      "execution_count": null,
      "outputs": [
        {
          "output_type": "stream",
          "name": "stdout",
          "text": [
            "(7135, 250, 250, 3) (7135, 4)\n",
            "(7135, 250, 250, 3) (7135, 4)\n"
          ]
        }
      ]
    },
    {
      "cell_type": "code",
      "source": [
        "np.save(loc + 'all_data/covidX.npy', Xall)\n",
        "np.save(loc + 'all_data/covidY.npy', Yall)"
      ],
      "metadata": {
        "id": "cJC1suQjj41l"
      },
      "execution_count": null,
      "outputs": []
    },
    {
      "cell_type": "code",
      "source": [],
      "metadata": {
        "id": "-Z4cHqR9vb6G"
      },
      "execution_count": null,
      "outputs": []
    }
  ]
}