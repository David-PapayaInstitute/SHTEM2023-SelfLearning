{
  "nbformat": 4,
  "nbformat_minor": 0,
  "metadata": {
    "colab": {
      "provenance": []
    },
    "kernelspec": {
      "name": "python3",
      "display_name": "Python 3"
    },
    "language_info": {
      "name": "python"
    }
  },
  "cells": [
    {
      "cell_type": "code",
      "execution_count": null,
      "metadata": {
        "colab": {
          "base_uri": "https://localhost:8080/"
        },
        "id": "HvlA_Ol2m-fH",
        "outputId": "e6f8924e-4552-46b8-8cd2-f1fbd17db69b"
      },
      "outputs": [
        {
          "output_type": "stream",
          "name": "stdout",
          "text": [
            "Drive already mounted at /content/drive/; to attempt to forcibly remount, call drive.mount(\"/content/drive/\", force_remount=True).\n"
          ]
        }
      ],
      "source": [
        "import numpy as np\n",
        "import matplotlib.pyplot as plt\n",
        "import time\n",
        "import os\n",
        "import tensorflow as tf\n",
        "from google.colab import drive\n",
        "drive.mount('/content/drive/')\n",
        "loc = 'drive/MyDrive/Shtem2023/'"
      ]
    },
    {
      "cell_type": "code",
      "source": [
        "def f(x):\n",
        "  return x**2-4*x+x**3 +1/10*x**4"
      ],
      "metadata": {
        "id": "OvPmMBwNwHcH"
      },
      "execution_count": null,
      "outputs": []
    },
    {
      "cell_type": "code",
      "source": [
        "guess = -6.5\n",
        "xs = np.arange(-10,5,.1)\n",
        "\n",
        "plt.plot(xs,f(xs))\n",
        "plt.axvline(guess, color = 'green', dashes = (2,4))"
      ],
      "metadata": {
        "colab": {
          "base_uri": "https://localhost:8080/",
          "height": 447
        },
        "id": "w9lZF7fwvluF",
        "outputId": "e4e136bf-9c69-453b-e733-4bc29d739e03"
      },
      "execution_count": null,
      "outputs": [
        {
          "output_type": "execute_result",
          "data": {
            "text/plain": [
              "<matplotlib.lines.Line2D at 0x7fe40a889c60>"
            ]
          },
          "metadata": {},
          "execution_count": 77
        },
        {
          "output_type": "display_data",
          "data": {
            "text/plain": [
              "<Figure size 640x480 with 1 Axes>"
            ],
            "image/png": "[encoded data removed]"
          },
          "metadata": {}
        }
      ]
    },
    {
      "cell_type": "code",
      "source": [
        "def df(x):\n",
        "  return 2*x-4+3*x**2 +4/10*x**3\n"
      ],
      "metadata": {
        "id": "U5zzclwL0kxY"
      },
      "execution_count": null,
      "outputs": []
    },
    {
      "cell_type": "code",
      "source": [
        "df(guess)"
      ],
      "metadata": {
        "colab": {
          "base_uri": "https://localhost:8080/"
        },
        "id": "UX-SrN4b0yHy",
        "outputId": "ecf29eca-55d8-46be-fa5c-a99374d4b4f1"
      },
      "execution_count": null,
      "outputs": [
        {
          "output_type": "execute_result",
          "data": {
            "text/plain": [
              "-0.10000000000000853"
            ]
          },
          "metadata": {},
          "execution_count": 79
        }
      ]
    },
    {
      "cell_type": "code",
      "source": [
        "a = .1\n",
        "newguess = guess-df(guess)*a"
      ],
      "metadata": {
        "id": "nJu67jgA02hr"
      },
      "execution_count": null,
      "outputs": []
    },
    {
      "cell_type": "code",
      "source": [
        "newguess"
      ],
      "metadata": {
        "colab": {
          "base_uri": "https://localhost:8080/"
        },
        "id": "e8mtvSX11A0k",
        "outputId": "5796b897-a7ba-48d4-ef58-69587f86dbcd"
      },
      "execution_count": null,
      "outputs": [
        {
          "output_type": "execute_result",
          "data": {
            "text/plain": [
              "-6.489999999999999"
            ]
          },
          "metadata": {},
          "execution_count": 81
        }
      ]
    },
    {
      "cell_type": "code",
      "source": [
        "loc = 'drive/MyDrive/Shtem2023/'\n",
        "x2 = np.load(loc + 'x2.npy')\n",
        "y2 = np.load(loc + 'y2.npy')\n",
        "\n",
        "def polyguess(x2,par):\n",
        "  return x2[:,0]*x2[:,1]*par\n"
      ],
      "metadata": {
        "id": "h87fbca-p249"
      },
      "execution_count": null,
      "outputs": []
    },
    {
      "cell_type": "code",
      "source": [
        "par = 4.8\n",
        "np.mean((polyguess(x2,7) - y2)**2)"
      ],
      "metadata": {
        "colab": {
          "base_uri": "https://localhost:8080/"
        },
        "id": "Qw9Rsw_p1yUu",
        "outputId": "b5dfa755-4796-4382-a7b0-4465085167ac"
      },
      "execution_count": null,
      "outputs": [
        {
          "output_type": "execute_result",
          "data": {
            "text/plain": [
              "90301984.03762284"
            ]
          },
          "metadata": {},
          "execution_count": 83
        }
      ]
    },
    {
      "cell_type": "markdown",
      "source": [
        "$Error = MEAN(x_1*x_2*p - y_2)^2$\n",
        "\n",
        "//\n",
        "\n",
        "$\\frac{dError}{dp} = MEAN(2 (x_1*x_2*p - y_2)x_1*x_2)$"
      ],
      "metadata": {
        "id": "wmMfDBOU3K1N"
      }
    },
    {
      "cell_type": "code",
      "source": [
        "def dpolyguess(x2,par):\n",
        "  return np.mean(2*(x2[:,0]*x2[:,1]*par-y2)*x2[:,0]*x2[:,1])"
      ],
      "metadata": {
        "id": "xV3o6sSZ11vx"
      },
      "execution_count": null,
      "outputs": []
    },
    {
      "cell_type": "code",
      "source": [
        "dpolyguess(x2,par)\n",
        "a = 1e-8"
      ],
      "metadata": {
        "id": "s7asBAmq5Nrq"
      },
      "execution_count": null,
      "outputs": []
    },
    {
      "cell_type": "code",
      "source": [
        "nextpar = par -dpolyguess(x2,par)*a"
      ],
      "metadata": {
        "id": "NGynBTtt5SqQ"
      },
      "execution_count": null,
      "outputs": []
    },
    {
      "cell_type": "code",
      "source": [
        "nextpar"
      ],
      "metadata": {
        "colab": {
          "base_uri": "https://localhost:8080/"
        },
        "id": "3EZ27Ksr5odi",
        "outputId": "b9aabdce-86c6-4197-cf63-64c18b20b476"
      },
      "execution_count": null,
      "outputs": [
        {
          "output_type": "execute_result",
          "data": {
            "text/plain": [
              "4.659704836589276"
            ]
          },
          "metadata": {},
          "execution_count": 87
        }
      ]
    },
    {
      "cell_type": "code",
      "source": [],
      "metadata": {
        "id": "zPhmdSFv5pVR"
      },
      "execution_count": null,
      "outputs": []
    },
    {
      "cell_type": "code",
      "source": [
        "x = np.random.rand(1000)\n",
        "y = np.sqrt(1 - x**2)"
      ],
      "metadata": {
        "id": "_c_99dLpjR6S"
      },
      "execution_count": null,
      "outputs": []
    },
    {
      "cell_type": "code",
      "source": [
        "x = x.reshape(1000,1)\n",
        "y = y.reshape(1000,1)\n",
        "input_shape = x[0].shape\n",
        "\n",
        "model = tf.keras.Sequential([\n",
        "tf.keras.layers.Dense(units=10,input_shape=input_shape)])\n",
        "model.add(tf.keras.layers.Dense(units=10))\n",
        "model.add(tf.keras.layers.Dense(units=10))\n",
        "# after you create your model it's\n",
        "# always a good habit to print out it's summary\n",
        "model.summary()\n",
        "# adam optimizer works pretty well for\n",
        "# all kinds of problems and is a good starting point\n",
        "\n",
        "model.compile(optimizer= tf.keras.optimizers.Adam(learning_rate= 0.01),\n",
        "\n",
        "              # MAE error is good for\n",
        "              # numerical predictions\n",
        "              loss='mae')\n",
        "losses = model.fit(x, y,\n",
        "\n",
        "                   # it will use 'batch_size' number\n",
        "                   # of examples per example\n",
        "                   batch_size=256,\n",
        "                   epochs=15,  # total epoch\n",
        "                   )"
      ],
      "metadata": {
        "colab": {
          "base_uri": "https://localhost:8080/"
        },
        "id": "GW0q-LPQjdB8",
        "outputId": "cd206e93-ba16-4f09-ee77-630bd03b17d1"
      },
      "execution_count": null,
      "outputs": [
        {
          "output_type": "stream",
          "name": "stdout",
          "text": [
            "Model: \"sequential_9\"\n",
            "_________________________________________________________________\n",
            " Layer (type)                Output Shape              Param #   \n",
            "=================================================================\n",
            " dense_27 (Dense)            (None, 10)                20        \n",
            "                                                                 \n",
            " dense_28 (Dense)            (None, 10)                110       \n",
            "                                                                 \n",
            " dense_29 (Dense)            (None, 10)                110       \n",
            "                                                                 \n",
            "=================================================================\n",
            "Total params: 240\n",
            "Trainable params: 240\n",
            "Non-trainable params: 0\n",
            "_________________________________________________________________\n",
            "Epoch 1/15\n",
            "4/4 [==============================] - 0s 3ms/step - loss: 0.6668\n",
            "Epoch 2/15\n",
            "4/4 [==============================] - 0s 3ms/step - loss: 0.4823\n",
            "Epoch 3/15\n",
            "4/4 [==============================] - 0s 3ms/step - loss: 0.4024\n",
            "Epoch 4/15\n",
            "4/4 [==============================] - 0s 2ms/step - loss: 0.3556\n",
            "Epoch 5/15\n",
            "4/4 [==============================] - 0s 4ms/step - loss: 0.3088\n",
            "Epoch 6/15\n",
            "4/4 [==============================] - 0s 2ms/step - loss: 0.2655\n",
            "Epoch 7/15\n",
            "4/4 [==============================] - 0s 2ms/step - loss: 0.2233\n",
            "Epoch 8/15\n",
            "4/4 [==============================] - 0s 3ms/step - loss: 0.1710\n",
            "Epoch 9/15\n",
            "4/4 [==============================] - 0s 2ms/step - loss: 0.1282\n",
            "Epoch 10/15\n",
            "4/4 [==============================] - 0s 2ms/step - loss: 0.1034\n",
            "Epoch 11/15\n",
            "4/4 [==============================] - 0s 2ms/step - loss: 0.0862\n",
            "Epoch 12/15\n",
            "4/4 [==============================] - 0s 2ms/step - loss: 0.0745\n",
            "Epoch 13/15\n",
            "4/4 [==============================] - 0s 2ms/step - loss: 0.0692\n",
            "Epoch 14/15\n",
            "4/4 [==============================] - 0s 2ms/step - loss: 0.0708\n",
            "Epoch 15/15\n",
            "4/4 [==============================] - 0s 2ms/step - loss: 0.0706\n"
          ]
        }
      ]
    },
    {
      "cell_type": "code",
      "source": [],
      "metadata": {
        "id": "Ch5uL-Xqjc_h"
      },
      "execution_count": null,
      "outputs": []
    },
    {
      "cell_type": "code",
      "source": [],
      "metadata": {
        "id": "eYPJMtrZjc8j"
      },
      "execution_count": null,
      "outputs": []
    },
    {
      "cell_type": "code",
      "source": [],
      "metadata": {
        "id": "CoyFqfj_jc5p"
      },
      "execution_count": null,
      "outputs": []
    },
    {
      "cell_type": "code",
      "source": [],
      "metadata": {
        "id": "NOFQBgWQjc2t"
      },
      "execution_count": null,
      "outputs": []
    },
    {
      "cell_type": "code",
      "source": [],
      "metadata": {
        "id": "CmvZb3emjcz2"
      },
      "execution_count": null,
      "outputs": []
    },
    {
      "cell_type": "code",
      "source": [],
      "metadata": {
        "id": "Gs8MkJAQjcto"
      },
      "execution_count": null,
      "outputs": []
    }
  ]
}