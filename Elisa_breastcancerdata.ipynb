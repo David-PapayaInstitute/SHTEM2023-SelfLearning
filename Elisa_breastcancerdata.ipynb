{
  "nbformat": 4,
  "nbformat_minor": 0,
  "metadata": {
    "colab": {
      "provenance": []
    },
    "kernelspec": {
      "name": "python3",
      "display_name": "Python 3"
    },
    "language_info": {
      "name": "python"
    }
  },
  "cells": [
    {
      "cell_type": "code",
      "execution_count": null,
      "metadata": {
        "colab": {
          "base_uri": "https://localhost:8080/"
        },
        "id": "tDhAEPQF0Q20",
        "outputId": "f6bd6ca7-b25d-4613-cc3c-41da14f51d3c"
      },
      "outputs": [
        {
          "output_type": "stream",
          "name": "stdout",
          "text": [
            "Drive already mounted at /content/drive/; to attempt to forcibly remount, call drive.mount(\"/content/drive/\", force_remount=True).\n"
          ]
        }
      ],
      "source": [
        "import numpy as np\n",
        "import matplotlib.pyplot as plt\n",
        "import time\n",
        "import os\n",
        "import PIL\n",
        "import scipy\n",
        "import tensorflow as tf\n",
        "from google.colab import drive\n",
        "drive.mount('/content/drive/')\n",
        "loc = 'drive/MyDrive/Shtem2023/Applescab/'"
      ]
    },
    {
      "cell_type": "code",
      "source": [
        "import os\n",
        "import numpy as np\n",
        "from PIL import Image\n",
        "\n",
        "Xlist = []\n",
        "loc = '/path/to/your/directory/'\n",
        "\n",
        "for filename in os.listdir(loc + 'Applescab/train'):\n",
        "    img = Image.open(loc + 'Applescab/train/' + filename)\n",
        "    img2 = img.resize((300, 300))\n",
        "    arr = np.array(img2)\n",
        "    Xlist.append(arr)\n",
        "\n",
        "X = np.array(Xlist)\n"
      ],
      "metadata": {
        "colab": {
          "base_uri": "https://localhost:8080/",
          "height": 235
        },
        "id": "d3e_bLPUSyFW",
        "outputId": "a08226f7-0837-441c-bda0-d3627108817d"
      },
      "execution_count": null,
      "outputs": [
        {
          "output_type": "error",
          "ename": "FileNotFoundError",
          "evalue": "ignored",
          "traceback": [
            "\u001b[0;31m---------------------------------------------------------------------------\u001b[0m",
            "\u001b[0;31mFileNotFoundError\u001b[0m                         Traceback (most recent call last)",
            "\u001b[0;32m<ipython-input-10-60a4cf6db8ad>\u001b[0m in \u001b[0;36m<cell line: 8>\u001b[0;34m()\u001b[0m\n\u001b[1;32m      6\u001b[0m \u001b[0mloc\u001b[0m \u001b[0;34m=\u001b[0m \u001b[0;34m'/path/to/your/directory/'\u001b[0m\u001b[0;34m\u001b[0m\u001b[0;34m\u001b[0m\u001b[0m\n\u001b[1;32m      7\u001b[0m \u001b[0;34m\u001b[0m\u001b[0m\n\u001b[0;32m----> 8\u001b[0;31m \u001b[0;32mfor\u001b[0m \u001b[0mfilename\u001b[0m \u001b[0;32min\u001b[0m \u001b[0mos\u001b[0m\u001b[0;34m.\u001b[0m\u001b[0mlistdir\u001b[0m\u001b[0;34m(\u001b[0m\u001b[0mloc\u001b[0m \u001b[0;34m+\u001b[0m \u001b[0;34m'Applescab/train'\u001b[0m\u001b[0;34m)\u001b[0m\u001b[0;34m:\u001b[0m\u001b[0;34m\u001b[0m\u001b[0;34m\u001b[0m\u001b[0m\n\u001b[0m\u001b[1;32m      9\u001b[0m     \u001b[0mimg\u001b[0m \u001b[0;34m=\u001b[0m \u001b[0mImage\u001b[0m\u001b[0;34m.\u001b[0m\u001b[0mopen\u001b[0m\u001b[0;34m(\u001b[0m\u001b[0mloc\u001b[0m \u001b[0;34m+\u001b[0m \u001b[0;34m'Applescab/train/'\u001b[0m \u001b[0;34m+\u001b[0m \u001b[0mfilename\u001b[0m\u001b[0;34m)\u001b[0m\u001b[0;34m\u001b[0m\u001b[0;34m\u001b[0m\u001b[0m\n\u001b[1;32m     10\u001b[0m     \u001b[0mimg2\u001b[0m \u001b[0;34m=\u001b[0m \u001b[0mimg\u001b[0m\u001b[0;34m.\u001b[0m\u001b[0mresize\u001b[0m\u001b[0;34m(\u001b[0m\u001b[0;34m(\u001b[0m\u001b[0;36m300\u001b[0m\u001b[0;34m,\u001b[0m \u001b[0;36m300\u001b[0m\u001b[0;34m)\u001b[0m\u001b[0;34m)\u001b[0m\u001b[0;34m\u001b[0m\u001b[0;34m\u001b[0m\u001b[0m\n",
            "\u001b[0;31mFileNotFoundError\u001b[0m: [Errno 2] No such file or directory: '/path/to/your/directory/Applescab/train'"
          ]
        }
      ]
    },
    {
      "cell_type": "code",
      "source": [
        "Ylist = []\n",
        "numCat = 2\n",
        "for filename in os.listdir(loc+'Applescab/train'):\n",
        "  if 'HL' in filename:\n",
        "    label = [0,1] #1 on the right means healthy apple\n",
        "  else:\n",
        "    label = [1,0] #1 on left means infected apple\n",
        "  Ylist.append(label)\n",
        "Y = np.array(Ylist)"
      ],
      "metadata": {
        "id": "5E7Ehrur1CXd"
      },
      "execution_count": null,
      "outputs": []
    },
    {
      "cell_type": "code",
      "source": [
        "X.shape"
      ],
      "metadata": {
        "colab": {
          "base_uri": "https://localhost:8080/"
        },
        "id": "w5Q_w9Xf1Fqz",
        "outputId": "d85c0385-6f2d-4b85-8943-a3fb1a18d36e"
      },
      "execution_count": null,
      "outputs": [
        {
          "output_type": "execute_result",
          "data": {
            "text/plain": [
              "(574, 300, 300, 3)"
            ]
          },
          "metadata": {},
          "execution_count": 15
        }
      ]
    },
    {
      "cell_type": "code",
      "source": [
        "np.save(loc + 'glaucomaX.npy',X)"
      ],
      "metadata": {
        "id": "TamtC4ET1Mc3"
      },
      "execution_count": null,
      "outputs": []
    },
    {
      "cell_type": "code",
      "source": [
        "np.save(loc + 'glaucomaY.npy',Y)"
      ],
      "metadata": {
        "id": "exlrAlP41hIA"
      },
      "execution_count": null,
      "outputs": []
    },
    {
      "cell_type": "code",
      "source": [],
      "metadata": {
        "id": "0mpXHN7p2JPB"
      },
      "execution_count": null,
      "outputs": []
    },
    {
      "cell_type": "code",
      "source": [
        "from sklearn.model_selection import train_test_split\n",
        "data = np.arange(1,21)\n",
        "labels = data*10\n",
        "# Split the data\n",
        "x_train, x_valid, y_train, y_valid = train_test_split(data, labels, test_size=0.33, shuffle= True)"
      ],
      "metadata": {
        "id": "vetfRBsK1yvJ"
      },
      "execution_count": null,
      "outputs": []
    },
    {
      "cell_type": "code",
      "source": [
        "print (x_valid)"
      ],
      "metadata": {
        "colab": {
          "base_uri": "https://localhost:8080/"
        },
        "id": "pQ-eyg6V2fdw",
        "outputId": "c4de7496-a8a7-4ecd-da26-d85b95d8b055"
      },
      "execution_count": null,
      "outputs": [
        {
          "output_type": "stream",
          "name": "stdout",
          "text": [
            "[16  6 20  2 14  7 10]\n"
          ]
        }
      ]
    },
    {
      "cell_type": "code",
      "source": [
        "print (y_valid)"
      ],
      "metadata": {
        "colab": {
          "base_uri": "https://localhost:8080/"
        },
        "id": "RbkhFi8N2n7n",
        "outputId": "9e3ec045-9fff-4dc6-89c5-7944bdc5bcf3"
      },
      "execution_count": null,
      "outputs": [
        {
          "output_type": "stream",
          "name": "stdout",
          "text": [
            "[160  60 200  20 140  70 100]\n"
          ]
        }
      ]
    },
    {
      "cell_type": "code",
      "source": [
        "from sklearn.model_selection import train_test_split\n",
        "x = np.arange(1,21)\n",
        "y = data*10\n",
        "# Split the data\n",
        "x_train, x_valid, y_train, y_valid = train_test_split(X, Y, test_size=0.2, shuffle= True)"
      ],
      "metadata": {
        "id": "-UEIuqMX3sRj"
      },
      "execution_count": null,
      "outputs": []
    },
    {
      "cell_type": "code",
      "source": [
        "Xall = np.concatenate([x_train, x_valid])"
      ],
      "metadata": {
        "id": "XUZam2QS5xCc"
      },
      "execution_count": null,
      "outputs": []
    },
    {
      "cell_type": "code",
      "source": [
        "Xall.shape"
      ],
      "metadata": {
        "colab": {
          "base_uri": "https://localhost:8080/"
        },
        "id": "ToA7qdKv6IWy",
        "outputId": "104c8c7b-586f-4828-8d56-21a04048999f"
      },
      "execution_count": null,
      "outputs": [
        {
          "output_type": "execute_result",
          "data": {
            "text/plain": [
              "(574, 300, 300, 3)"
            ]
          },
          "metadata": {},
          "execution_count": 21
        }
      ]
    },
    {
      "cell_type": "code",
      "source": [
        "Yall = np.concatenate([y_train, y_valid])\n",
        "Yall.shape"
      ],
      "metadata": {
        "colab": {
          "base_uri": "https://localhost:8080/"
        },
        "id": "Q3uYqnDT6Mv0",
        "outputId": "cb235ef2-8850-4f8c-f95a-b31cf787cc32"
      },
      "execution_count": null,
      "outputs": [
        {
          "output_type": "execute_result",
          "data": {
            "text/plain": [
              "(574, 2)"
            ]
          },
          "metadata": {},
          "execution_count": 22
        }
      ]
    },
    {
      "cell_type": "code",
      "source": [
        "np.save(loc + 'all_data/applescabX.npy', Xall)\n",
        "np.save(loc + 'all_data/applescabY.npy', Yall)"
      ],
      "metadata": {
        "id": "8aabW0PB6ePC"
      },
      "execution_count": null,
      "outputs": []
    },
    {
      "cell_type": "code",
      "source": [
        "os.listdir(loc + 'all_data')"
      ],
      "metadata": {
        "colab": {
          "base_uri": "https://localhost:8080/"
        },
        "id": "hrub-HW-7cYO",
        "outputId": "afdb1a86-e71d-472f-a974-2d740edd1e1d"
      },
      "execution_count": null,
      "outputs": [
        {
          "output_type": "execute_result",
          "data": {
            "text/plain": [
              "['breastcancerY.npy',\n",
              " 'breastcancerX.npy',\n",
              " 'glaucomaX.npy',\n",
              " 'glaucomaY.npy',\n",
              " 'applescabX.npy',\n",
              " 'applescabY.npy']"
            ]
          },
          "metadata": {},
          "execution_count": 24
        }
      ]
    },
    {
      "cell_type": "code",
      "source": [
        "myX = np.load(loc + 'all_data/applescabX.npy')"
      ],
      "metadata": {
        "id": "zOw6mmA57QHn"
      },
      "execution_count": null,
      "outputs": []
    },
    {
      "cell_type": "code",
      "source": [
        "np.sum(Xall != myX)"
      ],
      "metadata": {
        "colab": {
          "base_uri": "https://localhost:8080/"
        },
        "id": "I3arTxtK75kt",
        "outputId": "46c4bfde-a06e-45d7-9f32-7deec1816b9d"
      },
      "execution_count": null,
      "outputs": [
        {
          "output_type": "execute_result",
          "data": {
            "text/plain": [
              "0"
            ]
          },
          "metadata": {},
          "execution_count": 26
        }
      ]
    },
    {
      "cell_type": "code",
      "source": [
        "np.where(Xall!=myX)"
      ],
      "metadata": {
        "colab": {
          "base_uri": "https://localhost:8080/"
        },
        "id": "xMtnGah78RYB",
        "outputId": "ccb27b5e-7e84-475f-8652-6b901765b946"
      },
      "execution_count": null,
      "outputs": [
        {
          "output_type": "execute_result",
          "data": {
            "text/plain": [
              "(array([], dtype=int64),\n",
              " array([], dtype=int64),\n",
              " array([], dtype=int64),\n",
              " array([], dtype=int64))"
            ]
          },
          "metadata": {},
          "execution_count": 27
        }
      ]
    },
    {
      "cell_type": "code",
      "source": [],
      "metadata": {
        "id": "jqdZRVB282wg"
      },
      "execution_count": null,
      "outputs": []
    },
    {
      "cell_type": "markdown",
      "source": [
        "# alz"
      ],
      "metadata": {
        "id": "2ZmZVXME9pgI"
      }
    },
    {
      "cell_type": "code",
      "source": [
        "alz_cat = os.listdir(loc + 'Alzheimers/train')"
      ],
      "metadata": {
        "id": "mbOL78Gr989f"
      },
      "execution_count": null,
      "outputs": []
    },
    {
      "cell_type": "code",
      "source": [],
      "metadata": {
        "id": "32_DjQvc-JPx"
      },
      "execution_count": null,
      "outputs": []
    },
    {
      "cell_type": "code",
      "source": [
        "Xlist = []\n",
        "for cat in alz_cat:\n",
        "  for filename in os.listdir(loc+'Alzheimers/train/'+ cat):\n",
        "    img = PIL.Image.open(loc+'Alzheimers/train/'+ cat + '/'+ filename)\n",
        "    img2 = img.resize((300,300))\n",
        "    arr = np.array(img2)\n",
        "    Xlist.append(arr)\n",
        "X = np.array(Xlist)"
      ],
      "metadata": {
        "id": "9WJidEaj9vp6"
      },
      "execution_count": null,
      "outputs": []
    },
    {
      "cell_type": "code",
      "source": [
        "Ylist = []\n",
        "numCat = 4\n",
        "for cat in alz_cat:\n",
        "  for filename in os.listdir(loc+'Alzheimers/train/'+ cat):\n",
        "      label = np.zeros(4)\n",
        "      index = alz_cat.index(cat)\n",
        "      label[index]=1\n",
        "      Ylist.append(label)\n",
        "Y = np.array(Ylist)"
      ],
      "metadata": {
        "id": "VlGRt2tr91Sd"
      },
      "execution_count": null,
      "outputs": []
    },
    {
      "cell_type": "code",
      "source": [
        "print(X.shape)\n",
        "print(Y.shape)"
      ],
      "metadata": {
        "colab": {
          "base_uri": "https://localhost:8080/"
        },
        "id": "1fMdX4TkAFrv",
        "outputId": "836bd67c-97eb-4b23-f972-7b4809cec3fd"
      },
      "execution_count": null,
      "outputs": [
        {
          "output_type": "stream",
          "name": "stdout",
          "text": [
            "(805, 300, 300)\n",
            "(805, 4)\n"
          ]
        }
      ]
    },
    {
      "cell_type": "code",
      "source": [
        "for array in [x_train, x_valid, y_train, y_valid]:\n",
        "  print(array.shape)"
      ],
      "metadata": {
        "colab": {
          "base_uri": "https://localhost:8080/"
        },
        "id": "YWKltlDa4SJf",
        "outputId": "1af882bc-2816-42e0-93bf-3fe453aaa6b6"
      },
      "execution_count": null,
      "outputs": [
        {
          "output_type": "stream",
          "name": "stdout",
          "text": [
            "(655, 300, 300, 3)\n",
            "(324, 300, 300, 3)\n",
            "(655, 2)\n",
            "(324, 2)\n"
          ]
        }
      ]
    }
  ]
}